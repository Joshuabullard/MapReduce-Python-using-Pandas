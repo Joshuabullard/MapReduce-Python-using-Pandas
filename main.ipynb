{
 "cells": [
  {
   "cell_type": "code",
   "execution_count": 13,
   "metadata": {},
   "outputs": [],
   "source": [
    "#Joshua Bullard\n",
    "#map reduce function -- python\n",
    "\n",
    "#input -- Movie script -> Cars (2006) downloaded from https://www.scripts.com/script/cars_5134\n",
    "#output -- graph/data of top 10 letters or top 10 words used in script(user specified)\n",
    "#########################################################\n",
    "\n",
    "\n",
    "import string \n",
    "\n",
    "# Purpose: count letters/words in user given textfile \n",
    "#\n",
    "# inputs:  filename  -- name of textfile to scan\n",
    "#          splitType -- enter 'word' for counting words, enter 'letter' for counting letters\n",
    "#\n",
    "# outputs: Returns list formatted in a tupple as [\"word\", \"count\"] \n",
    "\n",
    "def mapReduce(filename, splitType):\n",
    "  # open user specified file\n",
    "  myfile = open(filename, \"r\")\n",
    "  mydict = dict()\n",
    "  \n",
    "  #store each line of file. (Ignores punctuation and symbols)\n",
    "  for line in myfile:\n",
    "    line = line.strip()\n",
    "    line = line.lower()\n",
    "    line = line.translate(line.maketrans(\"\", \"\", string.punctuation))\n",
    "    \n",
    "    #determine if user selected 'word' OR 'letter'\n",
    "    split = splitType.lower()\n",
    "    if split == \"word\":\n",
    "      words = line.split()\n",
    "\n",
    "    elif split == \"letter\":\n",
    "      words = list(line)\n",
    "    else:\n",
    "        print (\"ERROR: Incorrect format, please enter either 'word' or 'letter'\")\n",
    "        return\n",
    "     \n",
    "    #count occurances of word in script\n",
    "    for word in words:\n",
    "        if word != \" \":\n",
    "            if word in mydict:\n",
    "                mydict[word] = mydict[word]+1\n",
    "            else:\n",
    "                mydict[word] = 1        \n",
    "  \n",
    "  # output list formatted in a tupple as [\"word\", \"count\"]\n",
    "  out = []\n",
    "  for key in list(mydict.keys()):\n",
    "    out.append([key, mydict[key]])\n",
    "\n",
    "  return out"
   ]
  },
  {
   "cell_type": "code",
   "execution_count": 14,
   "metadata": {},
   "outputs": [],
   "source": [
    "import pandas as pd\n",
    "import numpy as np\n",
    "\n",
    "# Purpose: Print data of top 10 words/letters of script. Print graph of data. \n",
    "#\n",
    "# inputs:  data  -- tupple list of words and counts\n",
    "#\n",
    "# outputs: Prints counts to screen and graph of data\n",
    "\n",
    "def graphTop10(data):\n",
    "    #create Pandas datafram from list\n",
    "    df = pd.DataFrame(data, columns = ['index', 'count'])\n",
    "    \n",
    "    #Determine top 10 words/letters\n",
    "    df_top10 = df.nlargest(10, 'count')\n",
    "    \n",
    "    #print data and graph\n",
    "    print(df_top10)\n",
    "    df_top10.plot.bar(x='index', y='count', rot=0)"
   ]
  },
  {
   "cell_type": "code",
   "execution_count": 15,
   "metadata": {},
   "outputs": [
    {
     "name": "stdout",
     "output_type": "stream",
     "text": [
      "    index  count\n",
      "56    you    413\n",
      "94    the    325\n",
      "17      i    281\n",
      "35      a    235\n",
      "93     to    210\n",
      "42     no    174\n",
      "7     and    134\n",
      "231    it    134\n",
      "148    in    127\n",
      "41     me    115\n"
     ]
    },
    {
     "data": {
      "image/png": "[encoded data removed]",
      "text/plain": [
       "<Figure size 432x288 with 1 Axes>"
      ]
     },
     "metadata": {
      "needs_background": "light"
     },
     "output_type": "display_data"
    }
   ],
   "source": [
    "#TEST OUTPUT -- Top 10 words in Cars (2006) script\n",
    "words = mapReduce(\"cars.txt\", \"word\")\n",
    "graphTop10(words)"
   ]
  },
  {
   "cell_type": "code",
   "execution_count": 16,
   "metadata": {},
   "outputs": [
    {
     "name": "stdout",
     "output_type": "stream",
     "text": [
      "   index  count\n",
      "11     e   5094\n",
      "7      o   4220\n",
      "12     t   4005\n",
      "1      a   3571\n",
      "18     i   3481\n",
      "9      n   3288\n",
      "8      h   2861\n",
      "2      r   2494\n",
      "3      s   2421\n",
      "10     l   2008\n"
     ]
    },
    {
     "data": {
      "image/png": "[encoded data removed]",
      "text/plain": [
       "<Figure size 432x288 with 1 Axes>"
      ]
     },
     "metadata": {
      "needs_background": "light"
     },
     "output_type": "display_data"
    }
   ],
   "source": [
    "#TEST OUTPUT -- Top 10 letters in Cars (2006) script\n",
    "letters = mapReduce(\"cars.txt\", \"letter\")\n",
    "graphTop10(letters)"
   ]
  },
  {
   "cell_type": "code",
   "execution_count": 17,
   "metadata": {},
   "outputs": [
    {
     "name": "stdout",
     "output_type": "stream",
     "text": [
      "ERROR: Incorrect format, please enter either 'word' or 'letter'\n"
     ]
    }
   ],
   "source": [
    "#TEST OUTPUT -- Incorrect format\n",
    "mapReduce(\"cars.txt\", \"testError\")"
   ]
  },
  {
   "cell_type": "code",
   "execution_count": null,
   "metadata": {},
   "outputs": [],
   "source": []
  }
 ],
 "metadata": {
  "kernelspec": {
   "display_name": "Python 3",
   "language": "python",
   "name": "python3"
  },
  "language_info": {
   "codemirror_mode": {
    "name": "ipython",
    "version": 3
   },
   "file_extension": ".py",
   "mimetype": "text/x-python",
   "name": "python",
   "nbconvert_exporter": "python",
   "pygments_lexer": "ipython3",
   "version": "3.7.6"
  }
 },
 "nbformat": 4,
 "nbformat_minor": 4
}
